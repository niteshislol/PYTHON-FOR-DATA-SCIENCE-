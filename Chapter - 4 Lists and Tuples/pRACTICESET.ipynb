{
 "cells": [
  {
   "cell_type": "code",
   "execution_count": 5,
   "id": "e81a9b39-fd65-414d-b672-88acc526fead",
   "metadata": {},
   "outputs": [
    {
     "name": "stdout",
     "output_type": "stream",
     "text": [
      "72\n"
     ]
    }
   ],
   "source": [
    "1. #Write a program to store seven fruits in a list entered by the user.\n",
    "\n",
    "# fruits = []\n",
    "# f1 = input(\"Ener Fruit name : \")\n",
    "# fruits.append(f1)\n",
    "# f2 = input(\"Ener Fruit name : \")\n",
    "# fruits.append(f2)\n",
    "# f3 = input(\"Ener Fruit name : \")\n",
    "# fruits.append(f3)\n",
    "# f4 = input(\"Ener Fruit name : \")\n",
    "# fruits.append(f4)\n",
    "# f5 = input(\"Ener Fruit name : \")\n",
    "# fruits.append(f5)\n",
    "# f6 = input(\"Ener Fruit name : \")\n",
    "# fruits.append(f6)\n",
    "# f7 = input(\"Ener Fruit name : \")\n",
    "# fruits.append(f7)\n",
    "# print(fruits)\n",
    "t1 = (1,2,3,4,56,6)\n",
    "print(sum(t1))"
   ]
  },
  {
   "cell_type": "code",
   "execution_count": 7,
   "id": "95205fcb-23f0-4018-94d4-f1ae52a6d66f",
   "metadata": {},
   "outputs": [
    {
     "name": "stdout",
     "output_type": "stream",
     "text": [
      "4\n"
     ]
    }
   ],
   "source": [
    "a = (1,2,34,5,6,7,8,3,0,9,0,0,0,6,5,4)\n",
    "null = a.count(0) \n",
    "print(null)"
   ]
  },
  {
   "cell_type": "code",
   "execution_count": null,
   "id": "fd911103-f06e-4d94-9835-7b1d5ffa5757",
   "metadata": {},
   "outputs": [],
   "source": [
    " "
   ]
  }
 ],
 "metadata": {
  "kernelspec": {
   "display_name": "Python [conda env:base] *",
   "language": "python",
   "name": "conda-base-py"
  },
  "language_info": {
   "codemirror_mode": {
    "name": "ipython",
    "version": 3
   },
   "file_extension": ".py",
   "mimetype": "text/x-python",
   "name": "python",
   "nbconvert_exporter": "python",
   "pygments_lexer": "ipython3",
   "version": "3.12.7"
  }
 },
 "nbformat": 4,
 "nbformat_minor": 5
}
