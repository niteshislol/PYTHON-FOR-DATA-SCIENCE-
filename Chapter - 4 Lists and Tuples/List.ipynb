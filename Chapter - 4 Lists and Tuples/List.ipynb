{
 "cells": [
  {
   "cell_type": "code",
   "execution_count": 27,
   "id": "04cf82d2-19f9-43c3-a151-d163f92ec62a",
   "metadata": {},
   "outputs": [
    {
     "name": "stdout",
     "output_type": "stream",
     "text": [
      "['Orange', 5, 433.65, 'Akaksh']\n",
      "['Apple', 'Orange', 5, 433.65, 'Akaksh', False, 'Nitesh']\n",
      "these are ['Apple', 'Orange', 5, 556.66, 433.65, 'Akaksh', False, 'Nitesh']\n"
     ]
    }
   ],
   "source": [
    "friends = [\"Apple\",\"Orange\",5 , 433.65,\"Akaksh\",False]\n",
    "print(friends[-5:-1]) #unlike Strings - lists are mutable\n",
    "friends.append(\"Nitesh\") \n",
    "print(friends)\n",
    "friends.insert(3,556.66) \n",
    "print(\"these are\",friends)\n"
   ]
  },
  {
   "cell_type": "code",
   "execution_count": 33,
   "id": "c612f01a-c9e2-4f3f-b821-67fd18e9de62",
   "metadata": {},
   "outputs": [
    {
     "name": "stdout",
     "output_type": "stream",
     "text": [
      "['Orange', 433.65, 'Akaksh', False]\n"
     ]
    }
   ],
   "source": [
    "friends = [\"Apple\",\"Orange\",5 , 433.65,\"Akaksh\",False]\n",
    "friends.pop(2)\n",
    "friends.remove(\"Apple\")\n",
    "print(friends)"
   ]
  },
  {
   "cell_type": "code",
   "execution_count": null,
   "id": "c2931ebf-b770-4f50-bed8-8ecca2998dea",
   "metadata": {},
   "outputs": [],
   "source": []
  }
 ],
 "metadata": {
  "kernelspec": {
   "display_name": "Python [conda env:base] *",
   "language": "python",
   "name": "conda-base-py"
  },
  "language_info": {
   "codemirror_mode": {
    "name": "ipython",
    "version": 3
   },
   "file_extension": ".py",
   "mimetype": "text/x-python",
   "name": "python",
   "nbconvert_exporter": "python",
   "pygments_lexer": "ipython3",
   "version": "3.12.7"
  }
 },
 "nbformat": 4,
 "nbformat_minor": 5
}
