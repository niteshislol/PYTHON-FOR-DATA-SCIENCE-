{
 "cells": [
  {
   "cell_type": "code",
   "execution_count": 3,
   "id": "ab5d945b-dca7-4131-8e1b-dc8968e7a5cf",
   "metadata": {},
   "outputs": [
    {
     "name": "stdout",
     "output_type": "stream",
     "text": [
      "<class 'tuple'>\n"
     ]
    }
   ],
   "source": [
    "tuplesinpy =(1,3)\n",
    "print(type(tuplesinpy)) #IMMUTABLE"
   ]
  },
  {
   "cell_type": "code",
   "execution_count": 11,
   "id": "42d1723a-d86d-42dd-86c4-7a6c449ae4e5",
   "metadata": {},
   "outputs": [
    {
     "name": "stdout",
     "output_type": "stream",
     "text": [
      "Count of 2: 4\n",
      "Index of 8: 3\n",
      "Length of tuple: 8\n",
      "Max value: 9\n",
      "Min value: 1\n",
      "Sum of elements: 30\n",
      "Sorted tuple: [1, 2, 2, 2, 2, 4, 8, 9]\n"
     ]
    }
   ],
   "source": [
    "#TUPLE-METHODS\n",
    "# Creating a tuple\n",
    "t = (4, 2, 2, 8, 2, 9, 1, 2)\n",
    "\n",
    "# count() - Count occurrences of an element\n",
    "print(\"Count of 2:\", t.count(2))  # Output: 3\n",
    "\n",
    "# index() - Find index of an element\n",
    "print(\"Index of 8:\", t.index(8))  # Output: 2\n",
    "\n",
    "# len() - Get length of tuple\n",
    "print(\"Length of tuple:\", len(t))  # Output: 7\n",
    "\n",
    "# max() & min() - Find maximum and minimum values\n",
    "print(\"Max value:\", max(t))  # Output: 9\n",
    "print(\"Min value:\", min(t))  # Output: 1\n",
    "\n",
    "# sum() - Get sum of elements\n",
    "print(\"Sum of elements:\", sum(t))  # Output: 28\n",
    "\n",
    "# sorted() - Returns a sorted list from tuple\n",
    "print(\"Sorted tuple:\", sorted(t))  # Output: [1, 2, 2, 2, 4, 8, 9]\n"
   ]
  },
  {
   "cell_type": "code",
   "execution_count": 13,
   "id": "e1bfa066-68b6-4a71-8001-6982f4e7d99d",
   "metadata": {},
   "outputs": [
    {
     "name": "stdout",
     "output_type": "stream",
     "text": [
      "Concatenation: (1, 2, 3, 4, 5, 6)\n",
      "Repetition: (1, 2, 3, 1, 2, 3)\n",
      "t1 == t2: False\n",
      "t1 < t2: True\n",
      "t1 and t2: (4, 5, 6)\n",
      "t1 or (): (1, 2, 3)\n",
      "3 in t1: True\n",
      "7 not in t1: True\n",
      "t1 is t3: True\n",
      "Largest tuple: (4, 5, 6)\n"
     ]
    }
   ],
   "source": [
    "# Tuple operations\n",
    "t1 = (1, 2, 3)\n",
    "t2 = (4, 5, 6)\n",
    "\n",
    "# Arithmetic Operators (Allowed: +, *)\n",
    "print(\"Concatenation:\", t1 + t2)\n",
    "print(\"Repetition:\", t1 * 2)\n",
    "\n",
    "# Comparison Operators\n",
    "print(\"t1 == t2:\", t1 == t2)\n",
    "print(\"t1 < t2:\", t1 < t2)  \n",
    "\n",
    "# Logical Operators\n",
    "print(\"t1 and t2:\", t1 and t2)\n",
    "print(\"t1 or ():\", t1 or ())\n",
    "\n",
    "# Membership Operators\n",
    "print(\"3 in t1:\", 3 in t1)\n",
    "print(\"7 not in t1:\", 7 not in t1)\n",
    "\n",
    "# Identity Operators\n",
    "t3 = t1\n",
    "print(\"t1 is t3:\", t1 is t3)\n",
    "\n",
    "# Conditional (Ternary) Operator\n",
    "largest_tuple = t1 if len(t1) > len(t2) else t2\n",
    "print(\"Largest tuple:\", largest_tuple)\n"
   ]
  },
  {
   "cell_type": "code",
   "execution_count": null,
   "id": "460b0973-641e-467f-8dce-6d207b18b5ac",
   "metadata": {},
   "outputs": [],
   "source": []
  }
 ],
 "metadata": {
  "kernelspec": {
   "display_name": "Python [conda env:base] *",
   "language": "python",
   "name": "conda-base-py"
  },
  "language_info": {
   "codemirror_mode": {
    "name": "ipython",
    "version": 3
   },
   "file_extension": ".py",
   "mimetype": "text/x-python",
   "name": "python",
   "nbconvert_exporter": "python",
   "pygments_lexer": "ipython3",
   "version": "3.12.7"
  }
 },
 "nbformat": 4,
 "nbformat_minor": 5
}
