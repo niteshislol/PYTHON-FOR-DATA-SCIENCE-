{
 "cells": [
  {
   "cell_type": "code",
   "execution_count": 5,
   "id": "313cd706-3e12-4770-88d9-cec432c2b0e4",
   "metadata": {},
   "outputs": [
    {
     "name": "stdin",
     "output_type": "stream",
     "text": [
      "Enter the Day You want k\n",
      "Enter the Weather type You want k\n"
     ]
    },
    {
     "name": "stdout",
     "output_type": "stream",
     "text": [
      "__-__---____---_--\n"
     ]
    }
   ],
   "source": [
    "Day = \"Sunday\"\n",
    "Weather = \"Sunny\"\n",
    "n = input(\"Enter the Day You want : \")\n",
    "m = input(\"Enter the Weather type You want: \")\n",
    "#IF - ELIF - ELSE LADDER\n",
    "if(Day==n):\n",
    "    print(\"Hmm , OK!\")\n",
    "elif(Weather==m):\n",
    "    print(\"Enjoy , MF!\")\n",
    "else:\n",
    "    print(\"__-__---____---_--\")"
   ]
  },
  {
   "cell_type": "code",
   "execution_count": 23,
   "id": "222f195a-97ed-42bd-8f84-54f444f0a3bd",
   "metadata": {},
   "outputs": [
    {
     "name": "stdout",
     "output_type": "stream",
     "text": [
      "lesser\n",
      "End of Program\n"
     ]
    }
   ],
   "source": [
    "a=22\n",
    "b=5\n",
    "if(a!=22 ):\n",
    "    print(\"greater\")\n",
    "else:\n",
    "    print(\"lesser\")\n",
    "print(\"End of Program\")"
   ]
  },
  {
   "cell_type": "code",
   "execution_count": null,
   "id": "a6feb850-5e5e-4e0e-9bf9-017f028a4c3b",
   "metadata": {},
   "outputs": [],
   "source": []
  }
 ],
 "metadata": {
  "kernelspec": {
   "display_name": "Python [conda env:base] *",
   "language": "python",
   "name": "conda-base-py"
  },
  "language_info": {
   "codemirror_mode": {
    "name": "ipython",
    "version": 3
   },
   "file_extension": ".py",
   "mimetype": "text/x-python",
   "name": "python",
   "nbconvert_exporter": "python",
   "pygments_lexer": "ipython3",
   "version": "3.12.7"
  }
 },
 "nbformat": 4,
 "nbformat_minor": 5
}
