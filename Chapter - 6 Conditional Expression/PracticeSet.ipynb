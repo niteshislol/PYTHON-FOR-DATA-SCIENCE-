{
 "cells": [
  {
   "cell_type": "code",
   "execution_count": 7,
   "id": "01f31c22-26e8-4af1-a67c-4c23d779134a",
   "metadata": {},
   "outputs": [
    {
     "name": "stdin",
     "output_type": "stream",
     "text": [
      "Enter the Number : 45\n",
      "Enter the Number : 46\n",
      "Enter the Number : 78\n",
      "Enter the Number : 6\n"
     ]
    },
    {
     "name": "stdout",
     "output_type": "stream",
     "text": [
      "78 is the Greatest Number \n"
     ]
    }
   ],
   "source": [
    "a = int(input(\"Enter the Number :\" ))\n",
    "b = int(input(\"Enter the Number :\" ))\n",
    "c = int(input(\"Enter the Number :\" ))\n",
    "d = int(input(\"Enter the Number :\" ))\n",
    "if(a>b and a>c and a>d ):\n",
    "    print( a , \"is the Greatest Number \")\n",
    "elif (b>c and b>d and b>a ):\n",
    "    print( b , \"is the Greatest Number \")\n",
    "elif (b<c and c>d and c>a ):\n",
    "    print( c , \"is the Greatest Number \")\n",
    "else: \n",
    "    print( d , \"is the Greatest Number \")"
   ]
  },
  {
   "cell_type": "code",
   "execution_count": 61,
   "id": "5e7b13bf-082f-41f6-b73a-d3747a6bb511",
   "metadata": {},
   "outputs": [
    {
     "name": "stdin",
     "output_type": "stream",
     "text": [
      "Enter the Marks : 33\n",
      "Enter the Marks : 45\n",
      "Enter the Marks : 25\n"
     ]
    },
    {
     "name": "stdout",
     "output_type": "stream",
     "text": [
      "Oh,no! You've Failed with 34.333333333333336 Marks .\n",
      " Try again , Next Year\n"
     ]
    }
   ],
   "source": [
    "sci = int(input(\"Enter the Marks :\" ))\n",
    "math = int(input(\"Enter the Marks :\" ))\n",
    "bio = int(input(\"Enter the Marks :\" ))\n",
    "tot = (sci + math + bio)/3\n",
    "if(tot<40 ):\n",
    "    print(\"Oh,no! You've Failed with\", tot ,\"Marks .\\n Try again , Next Year\")# elif(tot>40):\n",
    "elif(sci<33 and math<33 and bio<33):\n",
    "    print(\"Oh,no! You've Failed with\", tot ,\"Marks .\\n Try again , Next Year\")\n",
    "elif(sci,math,bio>33 and tot>=40):\n",
    "        print(\"Congratulations , You Have Passed with\" , tot ,\"Marks\")"
   ]
  },
  {
   "cell_type": "code",
   "execution_count": 77,
   "id": "c5615929-8c37-4559-91b4-bb9e941f24c0",
   "metadata": {},
   "outputs": [
    {
     "name": "stdin",
     "output_type": "stream",
     "text": [
      "Enter the Message buy now\n"
     ]
    },
    {
     "name": "stdout",
     "output_type": "stream",
     "text": [
      "Spam Detected\n"
     ]
    }
   ],
   "source": [
    "p1= \"Make a lot of money\"\n",
    "p2=\"buy now\"\n",
    "p3=\"subscribe this\"\n",
    "p4=\"click this\"\n",
    "message = input(\"Enter the Message\")\n",
    "if(message in p1 or message in p2 or message in p3 or message in p4 ):\n",
    "    print(\"Spam Detected\")\n",
    "else:\n",
    "    print(\"No, Its Fine\")"
   ]
  },
  {
   "cell_type": "code",
   "execution_count": 83,
   "id": "20b61c1e-e152-4efb-8018-7137565a826b",
   "metadata": {},
   "outputs": [
    {
     "name": "stdin",
     "output_type": "stream",
     "text": [
      "Enter the Name :  nitesh\n"
     ]
    },
    {
     "name": "stdout",
     "output_type": "stream",
     "text": [
      "no\n"
     ]
    }
   ],
   "source": [
    "nitesh = input(\"Enter the Name : \")\n",
    "if(len(nitesh)<10):\n",
    "    print(\"no\")\n",
    "else:\n",
    "    print(\"Yes\")"
   ]
  },
  {
   "cell_type": "code",
   "execution_count": 85,
   "id": "a0bc500d-3e5e-443a-8e4b-b3a3ce2ef9e3",
   "metadata": {},
   "outputs": [
    {
     "name": "stdin",
     "output_type": "stream",
     "text": [
      "Enter the name:  Nitesh\n"
     ]
    },
    {
     "name": "stdout",
     "output_type": "stream",
     "text": [
      "Congratulations\n"
     ]
    }
   ],
   "source": [
    "l = [\"Nitesh\",\"Rohan\",\"Gulshan\",\"Farhan\"]\n",
    "name = input(\"Enter the name: \")\n",
    "if(name in l):\n",
    "    print(\"Congratulations\")\n",
    "else:\n",
    "    print(\"LOSTED\")"
   ]
  },
  {
   "cell_type": "code",
   "execution_count": null,
   "id": "61a5e447-b920-4cec-93fd-02bbc3d3f9cc",
   "metadata": {},
   "outputs": [],
   "source": []
  }
 ],
 "metadata": {
  "kernelspec": {
   "display_name": "Python [conda env:base] *",
   "language": "python",
   "name": "conda-base-py"
  },
  "language_info": {
   "codemirror_mode": {
    "name": "ipython",
    "version": 3
   },
   "file_extension": ".py",
   "mimetype": "text/x-python",
   "name": "python",
   "nbconvert_exporter": "python",
   "pygments_lexer": "ipython3",
   "version": "3.12.7"
  }
 },
 "nbformat": 4,
 "nbformat_minor": 5
}
