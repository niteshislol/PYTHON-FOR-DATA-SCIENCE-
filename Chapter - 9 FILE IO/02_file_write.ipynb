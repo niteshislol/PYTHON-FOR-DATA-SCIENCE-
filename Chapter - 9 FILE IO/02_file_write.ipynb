{
 "cells": [
  {
   "cell_type": "code",
   "execution_count": 3,
   "id": "b3c15bd6-c1ee-43df-9534-215a75762710",
   "metadata": {},
   "outputs": [],
   "source": [
    "n = \"Nitesh is Cool! Wooho \"\n",
    "f = open(\"myfile.txt\",\"w\")\n",
    "f.write(n)\n",
    "f.close()"
   ]
  },
  {
   "cell_type": "code",
   "execution_count": null,
   "id": "cb9fee2a-b23d-4db9-a69d-d02a5d30ac02",
   "metadata": {},
   "outputs": [],
   "source": []
  }
 ],
 "metadata": {
  "kernelspec": {
   "display_name": "Python [conda env:base] *",
   "language": "python",
   "name": "conda-base-py"
  },
  "language_info": {
   "codemirror_mode": {
    "name": "ipython",
    "version": 3
   },
   "file_extension": ".py",
   "mimetype": "text/x-python",
   "name": "python",
   "nbconvert_exporter": "python",
   "pygments_lexer": "ipython3",
   "version": "3.12.7"
  }
 },
 "nbformat": 4,
 "nbformat_minor": 5
}
