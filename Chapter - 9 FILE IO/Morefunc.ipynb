{
 "cells": [
  {
   "cell_type": "code",
   "execution_count": 12,
   "id": "8346a7b6-c32f-409f-9064-d2a775b5d4c6",
   "metadata": {},
   "outputs": [
    {
     "name": "stdout",
     "output_type": "stream",
     "text": [
      "['Nitesh is Cool! Wooho \\n', 'Nitesh is Cool! Wooho2 \\n', 'Nitesh is Cool! Wooho 3\\n', 'Nitesh is Cool! Wooho4 \\n', 'Nitesh is Cool! Wooho\\n', 'Nitesh is Cool! Wooho \\n'] <class 'list'>\n"
     ]
    }
   ],
   "source": [
    "f = open(\"file.txt\")\n",
    "lines = f.readlines()\n",
    "print(lines , type(lines))\n",
    "f.close()"
   ]
  },
  {
   "cell_type": "code",
   "execution_count": 30,
   "id": "d692ca52-dedf-495b-b173-0e93e2b8dd0d",
   "metadata": {},
   "outputs": [
    {
     "name": "stdout",
     "output_type": "stream",
     "text": [
      "Nitesh is Cool! Wooho \n",
      " <class 'str'>\n",
      "Nitesh is Cool! Wooho2 \n",
      " <class 'str'>\n",
      "Nitesh is Cool! Wooho 3 <class 'str'>\n",
      "True\n"
     ]
    }
   ],
   "source": [
    "f = open(\"file.txt\")\n",
    "\n",
    "line1 = f.readline()\n",
    "print(line1 , type(line1))\n",
    "line2 = f.readline()\n",
    "print(line2 , type(line2))\n",
    "line3 = f.readline()\n",
    "print(line3 , type(line3))\n",
    "line4 = f.readline()\n",
    "print(line4==\"\")\n",
    "f.close()\n",
    "#read line by line "
   ]
  },
  {
   "cell_type": "code",
   "execution_count": 34,
   "id": "720fb60e-1d7e-454f-83de-548154771f2f",
   "metadata": {},
   "outputs": [
    {
     "name": "stdout",
     "output_type": "stream",
     "text": [
      "Nitesh is Cool! Wooho \n",
      "\n",
      "Nitesh is Cool! Wooho2 \n",
      "\n",
      "Nitesh is Cool! Wooho 3\n"
     ]
    }
   ],
   "source": [
    "#file open using Whi;e Loop\n",
    "f = open(\"file.txt\")\n",
    "line = f.readline()\n",
    "while(line!=\"\"):\n",
    "    print(line)\n",
    "    line=f.readline()\n",
    "    "
   ]
  },
  {
   "cell_type": "code",
   "execution_count": 42,
   "id": "3d8519af-0bd7-4860-943c-f027c0e8958c",
   "metadata": {},
   "outputs": [],
   "source": [
    "#modes for opening a file r - open for reading \n",
    "# w - open for writing\n",
    "# a - open for appending\n",
    "# + - open for updating \n",
    "# \"rb\" will open for read in binary mode and \"rt\" will open for read in text mode\n",
    "m = \"nnnNitesh is coolllllllll\"\n",
    "f= open(\"myfile.txt\" , \"a\" ) \n",
    "f.write(m)\n",
    "f.close() \n",
    "#added to the mytextfile"
   ]
  },
  {
   "cell_type": "code",
   "execution_count": 48,
   "id": "b061664b-87e5-4b70-a7b5-0bfe33cb302c",
   "metadata": {},
   "outputs": [
    {
     "name": "stdout",
     "output_type": "stream",
     "text": [
      "Nitesh is Cool! Wooho \n",
      "Nitesh is Cool! Wooho2 \n",
      "Nitesh is Cool! Wooho 3\n"
     ]
    }
   ],
   "source": [
    "# with statement \n",
    "# f = open(\"nitesh.txt\")\n",
    "# print(f.read())\n",
    "# f.close() \n",
    "#we can do this same thing with statenebt se\n",
    "with open(\"file.txt\") as f:\n",
    "    print(f.read())\n",
    "    #we dont have to explicitly close the file"
   ]
  },
  {
   "cell_type": "code",
   "execution_count": null,
   "id": "30991b97-8c9b-49bc-b9f2-a2964dd2c399",
   "metadata": {},
   "outputs": [],
   "source": []
  }
 ],
 "metadata": {
  "kernelspec": {
   "display_name": "Python [conda env:base] *",
   "language": "python",
   "name": "conda-base-py"
  },
  "language_info": {
   "codemirror_mode": {
    "name": "ipython",
    "version": 3
   },
   "file_extension": ".py",
   "mimetype": "text/x-python",
   "name": "python",
   "nbconvert_exporter": "python",
   "pygments_lexer": "ipython3",
   "version": "3.12.7"
  }
 },
 "nbformat": 4,
 "nbformat_minor": 5
}
