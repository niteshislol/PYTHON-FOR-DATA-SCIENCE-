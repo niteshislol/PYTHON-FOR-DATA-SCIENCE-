{
 "cells": [
  {
   "cell_type": "code",
   "execution_count": 9,
   "id": "20807c63-cb4d-4a21-ac11-aa99d27b3441",
   "metadata": {},
   "outputs": [
    {
     "name": "stdout",
     "output_type": "stream",
     "text": [
      "Twinkle is Present in the content\n"
     ]
    }
   ],
   "source": [
    "f = open(\"poem.txt\")\n",
    "content = f.read()\n",
    "if(\"Twinkle\" in content):\n",
    "    print(\"Twinkle is Present in the content\")\n",
    "else:\n",
    "    print(\"Twinkle isn't Present in the content\")\n",
    "\n",
    "f.close()"
   ]
  },
  {
   "cell_type": "code",
   "execution_count": 33,
   "id": "6d40c6bb-6d3c-4728-9822-4c38915d452b",
   "metadata": {},
   "outputs": [
    {
     "name": "stdout",
     "output_type": "stream",
     "text": [
      "You are playing the game..\n",
      "Your Score: 10\n"
     ]
    },
    {
     "data": {
      "text/plain": [
       "10"
      ]
     },
     "execution_count": 33,
     "metadata": {},
     "output_type": "execute_result"
    }
   ],
   "source": [
    "# 2\n",
    "import random\n",
    "def game():\n",
    "    print(\"You are playing the game..\")\n",
    "    score =random.randint(1,62)\n",
    "    with open(\"hiscore.txt\") as f:\n",
    "        hiscore = f.read()\n",
    "        if(hiscore !=\"\"):\n",
    "            hiscore = int(hiscore)\n",
    "        else:\n",
    "            hiscore=0\n",
    "    print(f\"Your Score: {score}\")\n",
    "    if(score>hiscore):\n",
    "        with open(\"hiscore.txt\" , \"w\") as f:\n",
    "          f.write(str(score))  \n",
    "        #write this high score to the profile\n",
    "    return score   \n",
    "\n",
    "\n",
    "game()"
   ]
  },
  {
   "cell_type": "code",
   "execution_count": null,
   "id": "7aa4fa7b-1ad2-43bc-bcfb-3cf6b2ccc384",
   "metadata": {},
   "outputs": [],
   "source": [
    "for i in range(2,21):\n",
    "    generateTable(i)\n",
    "    #practiceset pause"
   ]
  }
 ],
 "metadata": {
  "kernelspec": {
   "display_name": "Python [conda env:base] *",
   "language": "python",
   "name": "conda-base-py"
  },
  "language_info": {
   "codemirror_mode": {
    "name": "ipython",
    "version": 3
   },
   "file_extension": ".py",
   "mimetype": "text/x-python",
   "name": "python",
   "nbconvert_exporter": "python",
   "pygments_lexer": "ipython3",
   "version": "3.12.7"
  }
 },
 "nbformat": 4,
 "nbformat_minor": 5
}
