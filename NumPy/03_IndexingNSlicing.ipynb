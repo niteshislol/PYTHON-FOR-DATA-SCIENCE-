{
 "cells": [
  {
   "cell_type": "code",
   "execution_count": 67,
   "id": "48816109-3a91-429d-bdc3-0b4a82ebd0c5",
   "metadata": {},
   "outputs": [],
   "source": [
    "import numpy as np\n",
    "arr = np.array([[1,2,3],[4,5,6],[7,8,9]])"
   ]
  },
  {
   "cell_type": "code",
   "execution_count": 69,
   "id": "64633509-7c15-4b71-91d3-cf10e3779c5b",
   "metadata": {},
   "outputs": [
    {
     "data": {
      "text/plain": [
       "array([[1, 2, 3],\n",
       "       [4, 5, 6],\n",
       "       [7, 8, 9]])"
      ]
     },
     "execution_count": 69,
     "metadata": {},
     "output_type": "execute_result"
    }
   ],
   "source": [
    "arr"
   ]
  },
  {
   "cell_type": "code",
   "execution_count": 71,
   "id": "ba4848a6-451f-46c5-ae20-f25cda88dec3",
   "metadata": {},
   "outputs": [],
   "source": [
    "flat = arr.flatten()"
   ]
  },
  {
   "cell_type": "code",
   "execution_count": 73,
   "id": "bedb0295-9257-430c-90c9-4845ae59be2d",
   "metadata": {},
   "outputs": [
    {
     "data": {
      "text/plain": [
       "array([1, 2, 3, 4, 5, 6, 7, 8, 9])"
      ]
     },
     "execution_count": 73,
     "metadata": {},
     "output_type": "execute_result"
    }
   ],
   "source": [
    "flat"
   ]
  },
  {
   "cell_type": "code",
   "execution_count": 75,
   "id": "c81fa79f-4533-4ab4-9b01-54895a9d3836",
   "metadata": {},
   "outputs": [
    {
     "data": {
      "text/plain": [
       "1"
      ]
     },
     "execution_count": 75,
     "metadata": {},
     "output_type": "execute_result"
    }
   ],
   "source": [
    "flat[0]"
   ]
  },
  {
   "cell_type": "code",
   "execution_count": 77,
   "id": "1570e7d3-5670-4811-863a-686f1d95d62a",
   "metadata": {},
   "outputs": [
    {
     "data": {
      "text/plain": [
       "5"
      ]
     },
     "execution_count": 77,
     "metadata": {},
     "output_type": "execute_result"
    }
   ],
   "source": [
    "flat[4]"
   ]
  },
  {
   "cell_type": "code",
   "execution_count": 79,
   "id": "e9195f20-ef2d-45f2-af24-19ec5fdc0a39",
   "metadata": {},
   "outputs": [
    {
     "data": {
      "text/plain": [
       "array([4, 5, 6])"
      ]
     },
     "execution_count": 79,
     "metadata": {},
     "output_type": "execute_result"
    }
   ],
   "source": [
    "flat[3:6]"
   ]
  },
  {
   "cell_type": "code",
   "execution_count": 81,
   "id": "37182517-ae2c-45e8-947c-0d78d0916c2f",
   "metadata": {},
   "outputs": [
    {
     "data": {
      "text/plain": [
       "array([4, 5, 6, 7, 8, 9])"
      ]
     },
     "execution_count": 81,
     "metadata": {},
     "output_type": "execute_result"
    }
   ],
   "source": [
    "flat[3:9]"
   ]
  },
  {
   "cell_type": "code",
   "execution_count": 83,
   "id": "44ea8419-4637-472a-bc3e-35478d842927",
   "metadata": {},
   "outputs": [
    {
     "name": "stdout",
     "output_type": "stream",
     "text": [
      "[1 3 5 7 9]\n"
     ]
    }
   ],
   "source": [
    "print(flat[ : :2])"
   ]
  },
  {
   "cell_type": "code",
   "execution_count": 85,
   "id": "5e48653e-505c-4bd3-9e86-8a8561ffcb12",
   "metadata": {},
   "outputs": [],
   "source": [
    "b = flat[3:7].copy() # it uses same memory allocation so there's copy method"
   ]
  },
  {
   "cell_type": "code",
   "execution_count": 87,
   "id": "306d0b91-8837-4da8-b0c4-00ff8bce638a",
   "metadata": {},
   "outputs": [
    {
     "data": {
      "text/plain": [
       "array([4, 5, 6, 7])"
      ]
     },
     "execution_count": 87,
     "metadata": {},
     "output_type": "execute_result"
    }
   ],
   "source": [
    "b"
   ]
  },
  {
   "cell_type": "code",
   "execution_count": 89,
   "id": "128c7b95-f4fd-4a5a-ab78-0e22294902ca",
   "metadata": {},
   "outputs": [],
   "source": [
    "b[2]=33333333"
   ]
  },
  {
   "cell_type": "code",
   "execution_count": 91,
   "id": "9f5d4912-94b6-4a8c-ae8f-e019818f1f87",
   "metadata": {},
   "outputs": [
    {
     "data": {
      "text/plain": [
       "array([       4,        5, 33333333,        7])"
      ]
     },
     "execution_count": 91,
     "metadata": {},
     "output_type": "execute_result"
    }
   ],
   "source": [
    "b "
   ]
  },
  {
   "cell_type": "code",
   "execution_count": 93,
   "id": "77c95ffc-230a-4f98-aefe-c0a25216c461",
   "metadata": {},
   "outputs": [
    {
     "data": {
      "text/plain": [
       "array([1, 2, 3, 4, 5, 6, 7, 8, 9])"
      ]
     },
     "execution_count": 93,
     "metadata": {},
     "output_type": "execute_result"
    }
   ],
   "source": [
    "flat"
   ]
  },
  {
   "cell_type": "code",
   "execution_count": 99,
   "id": "9185a63b-e7c3-478b-b4c7-a2b32ab654bf",
   "metadata": {},
   "outputs": [],
   "source": [
    "c=flat.copy()"
   ]
  },
  {
   "cell_type": "code",
   "execution_count": 101,
   "id": "4fd67d31-edc4-4226-9b45-a9d8c563a87a",
   "metadata": {},
   "outputs": [
    {
     "data": {
      "text/plain": [
       "array([1, 2, 3, 4, 5, 6, 7, 8, 9])"
      ]
     },
     "execution_count": 101,
     "metadata": {},
     "output_type": "execute_result"
    }
   ],
   "source": [
    "c"
   ]
  },
  {
   "cell_type": "code",
   "execution_count": 103,
   "id": "5ece675b-7e3f-4498-8244-49a9be102697",
   "metadata": {},
   "outputs": [
    {
     "data": {
      "text/plain": [
       "array([2, 5, 7])"
      ]
     },
     "execution_count": 103,
     "metadata": {},
     "output_type": "execute_result"
    }
   ],
   "source": [
    "c[[1,4,6]]"
   ]
  },
  {
   "cell_type": "code",
   "execution_count": 105,
   "id": "39bf016f-9cf5-447c-959f-67dba0306c18",
   "metadata": {},
   "outputs": [
    {
     "data": {
      "text/plain": [
       "array([1, 2])"
      ]
     },
     "execution_count": 105,
     "metadata": {},
     "output_type": "execute_result"
    }
   ],
   "source": [
    "c[c<3]"
   ]
  },
  {
   "cell_type": "code",
   "execution_count": 107,
   "id": "79bffb5b-1e4e-45a1-a495-8a4f85fc6027",
   "metadata": {},
   "outputs": [],
   "source": [
    " reshaped = c.reshape(3,3)"
   ]
  },
  {
   "cell_type": "code",
   "execution_count": 109,
   "id": "9761c103-530e-4607-8acb-0af0503217d0",
   "metadata": {},
   "outputs": [
    {
     "data": {
      "text/plain": [
       "array([[1, 2, 3],\n",
       "       [4, 5, 6],\n",
       "       [7, 8, 9]])"
      ]
     },
     "execution_count": 109,
     "metadata": {},
     "output_type": "execute_result"
    }
   ],
   "source": [
    "reshaped"
   ]
  },
  {
   "cell_type": "markdown",
   "id": "4ed56291-6cd5-49f5-888e-b753a7725c31",
   "metadata": {},
   "source": []
  }
 ],
 "metadata": {
  "kernelspec": {
   "display_name": "Python [conda env:base] *",
   "language": "python",
   "name": "conda-base-py"
  },
  "language_info": {
   "codemirror_mode": {
    "name": "ipython",
    "version": 3
   },
   "file_extension": ".py",
   "mimetype": "text/x-python",
   "name": "python",
   "nbconvert_exporter": "python",
   "pygments_lexer": "ipython3",
   "version": "3.12.7"
  }
 },
 "nbformat": 4,
 "nbformat_minor": 5
}
