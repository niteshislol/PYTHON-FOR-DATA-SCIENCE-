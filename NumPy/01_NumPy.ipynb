{
 "cells": [
  {
   "cell_type": "code",
   "execution_count": 2,
   "id": "c82150b6-2389-47fb-a181-07411bcce3ec",
   "metadata": {},
   "outputs": [],
   "source": [
    "import numpy as np\n",
    "arr = np.array([2,3,4,6,])"
   ]
  },
  {
   "cell_type": "code",
   "execution_count": 4,
   "id": "776a2b59-fb43-4dc7-be1c-f695cf112762",
   "metadata": {},
   "outputs": [
    {
     "data": {
      "text/plain": [
       "array([2, 3, 4, 6])"
      ]
     },
     "execution_count": 4,
     "metadata": {},
     "output_type": "execute_result"
    }
   ],
   "source": [
    "arr\n"
   ]
  },
  {
   "cell_type": "code",
   "execution_count": 6,
   "id": "93eb66b9-4c37-4fa4-b709-63bf627eec96",
   "metadata": {},
   "outputs": [
    {
     "data": {
      "text/plain": [
       "array([[2, 4, 5, 7],\n",
       "       [3, 5, 7, 8]])"
      ]
     },
     "execution_count": 6,
     "metadata": {},
     "output_type": "execute_result"
    }
   ],
   "source": [
    "arr2 = np.array([[2,4,5,7],[3,5,7,8]]) \n",
    "arr2"
   ]
  },
  {
   "cell_type": "markdown",
   "id": "67d94faa-80c5-4bec-8072-cf2b05f9257f",
   "metadata": {},
   "source": [
    "## - Full with 0 in 3x5 Array"
   ]
  },
  {
   "cell_type": "code",
   "execution_count": null,
   "id": "1c183487-99f0-4df8-ae6a-2d5e6c7fd7a8",
   "metadata": {},
   "outputs": [],
   "source": [
    "np.zeros((3,5)) "
   ]
  },
  {
   "cell_type": "markdown",
   "id": "0f78ac1c-26df-46a4-8659-6d7a63d7fa44",
   "metadata": {},
   "source": [
    "## - Full with 1 in 4x7 Array"
   ]
  },
  {
   "cell_type": "code",
   "execution_count": null,
   "id": "7bd47056-9e58-4fee-b15b-1d3bbb3db7be",
   "metadata": {},
   "outputs": [],
   "source": [
    "np.ones((4,7)) "
   ]
  },
  {
   "cell_type": "code",
   "execution_count": 14,
   "id": "079aac47-5a4c-45de-b660-3cd70378158d",
   "metadata": {},
   "outputs": [
    {
     "data": {
      "text/plain": [
       "array([[7, 7, 7, 7, 7],\n",
       "       [7, 7, 7, 7, 7]])"
      ]
     },
     "execution_count": 14,
     "metadata": {},
     "output_type": "execute_result"
    }
   ],
   "source": [
    "np.full((2,5),7) #full with 7 in 2 x 5 - 2D Array"
   ]
  },
  {
   "cell_type": "code",
   "execution_count": 23,
   "id": "ca9733a2-f16d-4a60-948f-ac7f39c09497",
   "metadata": {},
   "outputs": [
    {
     "data": {
      "text/plain": [
       "array([[1., 0., 0.],\n",
       "       [0., 1., 0.],\n",
       "       [0., 0., 1.]])"
      ]
     },
     "execution_count": 23,
     "metadata": {},
     "output_type": "execute_result"
    }
   ],
   "source": [
    "np.eye(3)"
   ]
  },
  {
   "cell_type": "code",
   "execution_count": 25,
   "id": "8ffca385-0bec-4546-9101-31367ebb504a",
   "metadata": {},
   "outputs": [
    {
     "data": {
      "text/plain": [
       "array([1, 3, 5, 7, 9])"
      ]
     },
     "execution_count": 25,
     "metadata": {},
     "output_type": "execute_result"
    }
   ],
   "source": [
    " np.arange(1,10,2)"
   ]
  },
  {
   "cell_type": "code",
   "execution_count": 27,
   "id": "31618437-e3d8-45f9-9d9f-9db41acd6460",
   "metadata": {},
   "outputs": [
    {
     "data": {
      "text/plain": [
       "array([  1.  ,  25.75,  50.5 ,  75.25, 100.  ])"
      ]
     },
     "execution_count": 27,
     "metadata": {},
     "output_type": "execute_result"
    }
   ],
   "source": [
    "np.linspace(1,100,5)"
   ]
  },
  {
   "cell_type": "code",
   "execution_count": null,
   "id": "a978eb53-80f6-40d9-9469-b0d3747c6eab",
   "metadata": {},
   "outputs": [],
   "source": []
  }
 ],
 "metadata": {
  "kernelspec": {
   "display_name": "Python [conda env:base] *",
   "language": "python",
   "name": "conda-base-py"
  },
  "language_info": {
   "codemirror_mode": {
    "name": "ipython",
    "version": 3
   },
   "file_extension": ".py",
   "mimetype": "text/x-python",
   "name": "python",
   "nbconvert_exporter": "python",
   "pygments_lexer": "ipython3",
   "version": "3.12.7"
  }
 },
 "nbformat": 4,
 "nbformat_minor": 5
}
