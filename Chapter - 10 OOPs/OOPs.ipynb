{
 "cells": [
  {
   "cell_type": "markdown",
   "id": "73ee2d5a-5a00-415d-80a9-a7689aceae0d",
   "metadata": {},
   "source": [
    " class Employee:\n",
    "     lan =\"py\"\n",
    "     sal = 1000\n",
    "     def __init__(self):\n",
    "         print(\"i am creating an object\")\n",
    "S1 = Employee()\n",
    "S1.name = \"chunnilal\"\n",
    "print(S1.name , S1.lan , S1.sal)"
   ]
  },
  {
   "cell_type": "code",
   "execution_count": 46,
   "id": "f88b9b3a-b28f-4c1f-b9e4-869551ce4a8b",
   "metadata": {},
   "outputs": [
    {
     "name": "stdout",
     "output_type": "stream",
     "text": [
      "I'm Creating Best Object\n",
      "Nitesh is the Best Student also He Studies in Class 12\n"
     ]
    }
   ],
   "source": [
    "class Student:\n",
    "        def __init__(self):\n",
    "            print(\"I'm Creating Best Object\")\n",
    "    \n",
    "        def display(self):\n",
    "            self.Nitesh = \"Nitesh\"\n",
    "            self.classes = 12\n",
    "            print(f\"{self.Nitesh} is the Best Student also He Studies in Class {self.classes}\" )\n",
    "        \n",
    "Student1 = Student()\n",
    "Student1.display()\n",
    "        "
   ]
  },
  {
   "cell_type": "markdown",
   "id": "38cc5727-9872-49e0-b3cd-aef6158ec8be",
   "metadata": {},
   "source": [
    "**We Can Also Write Code Without Using Self Argument Using Decorators**"
   ]
  },
  {
   "cell_type": "code",
   "execution_count": 62,
   "id": "aed47bfa-71c0-4a09-a88e-0b79dea733bf",
   "metadata": {},
   "outputs": [
    {
     "ename": "SyntaxError",
     "evalue": "expected '(' (180915973.py, line 11)",
     "output_type": "error",
     "traceback": [
      "\u001b[1;36m  Cell \u001b[1;32mIn[62], line 11\u001b[1;36m\u001b[0m\n\u001b[1;33m    def Classmethod:\u001b[0m\n\u001b[1;37m                   ^\u001b[0m\n\u001b[1;31mSyntaxError\u001b[0m\u001b[1;31m:\u001b[0m expected '('\n"
     ]
    }
   ],
   "source": [
    "class Student:\n",
    "    Netri = \"OOhGuys\"\n",
    "    \n",
    "    def __init__(self):\n",
    "        print(\"I'm Creating Best Object\")\n",
    "\n",
    "    @staticmethod\n",
    "    def display():\n",
    "        Nitesh = \"Nitesh\"\n",
    "        classes = 12\n",
    "        print(f\"{Nitesh} is the Best Student also He Studies in Class {classes}\")\n",
    "    \n",
    "    @classmethod\n",
    "    def classmethod(cls):\n",
    "        print(f\"{cls.Netri} is out of the world\")\n",
    "        \n",
    "\n",
    "Student1 = Student()\n",
    "Student1.display()\n",
    "Student1.classmethod()\n"
   ]
  },
  {
   "cell_type": "code",
   "execution_count": null,
   "id": "587d7e68-def8-4323-a21b-0f0912612686",
   "metadata": {},
   "outputs": [],
   "source": []
  }
 ],
 "metadata": {
  "kernelspec": {
   "display_name": "Python [conda env:base] *",
   "language": "python",
   "name": "conda-base-py"
  },
  "language_info": {
   "codemirror_mode": {
    "name": "ipython",
    "version": 3
   },
   "file_extension": ".py",
   "mimetype": "text/x-python",
   "name": "python",
   "nbconvert_exporter": "python",
   "pygments_lexer": "ipython3",
   "version": "3.12.7"
  }
 },
 "nbformat": 4,
 "nbformat_minor": 5
}
