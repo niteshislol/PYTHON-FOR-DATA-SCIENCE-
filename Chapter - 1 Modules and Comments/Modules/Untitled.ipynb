{
 "cells": [
  {
   "cell_type": "code",
   "execution_count": 15,
   "id": "23c1d8eb-9ce3-441c-b448-2344cc0b4f14",
   "metadata": {},
   "outputs": [
    {
     "name": "stdout",
     "output_type": "stream",
     "text": [
      "3\n",
      "None\n",
      "2\n",
      "None\n"
     ]
    }
   ],
   "source": [
    "# my_package/__init__.py\n",
    "\n",
    "# You can import the modules here if needed:\n",
    "from module1 import add\n",
    "from module2 import multiply\n",
    "\n",
    "a=1 \n",
    "b = 2\n",
    "print(add(a,b))\n",
    "print(multiply(a,b))"
   ]
  },
  {
   "cell_type": "code",
   "execution_count": null,
   "id": "0936d6b0-d7b5-4646-9d27-d37255cd23e4",
   "metadata": {},
   "outputs": [],
   "source": []
  }
 ],
 "metadata": {
  "kernelspec": {
   "display_name": "Python [conda env:base] *",
   "language": "python",
   "name": "conda-base-py"
  },
  "language_info": {
   "codemirror_mode": {
    "name": "ipython",
    "version": 3
   },
   "file_extension": ".py",
   "mimetype": "text/x-python",
   "name": "python",
   "nbconvert_exporter": "python",
   "pygments_lexer": "ipython3",
   "version": "3.12.7"
  }
 },
 "nbformat": 4,
 "nbformat_minor": 5
}
