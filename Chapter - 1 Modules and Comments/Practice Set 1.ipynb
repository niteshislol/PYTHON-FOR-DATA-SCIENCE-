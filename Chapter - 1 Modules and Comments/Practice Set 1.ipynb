{
 "cells": [
  {
   "cell_type": "code",
   "execution_count": 2,
   "id": "725ef9dd-c82d-4de4-9134-0f49b27c31e6",
   "metadata": {},
   "outputs": [
    {
     "name": "stdout",
     "output_type": "stream",
     "text": [
      "Requirement already satisfied: pyjokes in c:\\users\\nites\\anaconda3\\lib\\site-packages (0.8.3)Note: you may need to restart the kernel to use updated packages.\n",
      "\n"
     ]
    }
   ],
   "source": [
    "pip install pyjokes\n"
   ]
  },
  {
   "cell_type": "code",
   "execution_count": 77,
   "id": "1ea2b19b-ebc7-49cd-91a2-225c91159064",
   "metadata": {
    "scrolled": true
   },
   "outputs": [
    {
     "name": "stdout",
     "output_type": "stream",
     "text": [
      "How to explain the movie Inception to a programmer? When you run a VM inside another VM, inside another VM ... everything runs real slow!\n",
      "Twinkle twinkle little star.\n",
      "How I wonder what you are.\n",
      "Up above the world so high.\n",
      "Like a diamond in the sky.\n",
      "Twinkle twinkle little star.\n",
      "How I wonder what you are.\n"
     ]
    }
   ],
   "source": [
    "import pyjokes \n",
    "\n",
    "jokes = pyjokes.get_joke()\n",
    "print(jokes)\n",
    "print(\"\"\"Twinkle twinkle little star.\n",
    "How I wonder what you are.\n",
    "Up above the world so high.\n",
    "Like a diamond in the sky.\n",
    "Twinkle twinkle little star.\n",
    "How I wonder what you are.\"\"\")"
   ]
  },
  {
   "cell_type": "code",
   "execution_count": null,
   "id": "4aa1eec5-68e4-4014-86e1-43e07bf11465",
   "metadata": {},
   "outputs": [],
   "source": []
  }
 ],
 "metadata": {
  "kernelspec": {
   "display_name": "Python [conda env:base] *",
   "language": "python",
   "name": "conda-base-py"
  },
  "language_info": {
   "codemirror_mode": {
    "name": "ipython",
    "version": 3
   },
   "file_extension": ".py",
   "mimetype": "text/x-python",
   "name": "python",
   "nbconvert_exporter": "python",
   "pygments_lexer": "ipython3",
   "version": "3.12.7"
  }
 },
 "nbformat": 4,
 "nbformat_minor": 5
}
