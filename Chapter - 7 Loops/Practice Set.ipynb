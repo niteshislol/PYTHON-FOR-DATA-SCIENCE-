{
 "cells": [
  {
   "cell_type": "code",
   "execution_count": 9,
   "id": "947aee14-2924-47f7-9d09-e5e81500b6b4",
   "metadata": {},
   "outputs": [
    {
     "name": "stdin",
     "output_type": "stream",
     "text": [
      "Enter a number:  5\n"
     ]
    },
    {
     "name": "stdout",
     "output_type": "stream",
     "text": [
      "5 x 1 = 5\n",
      "5 x 2 = 10\n",
      "5 x 3 = 15\n",
      "5 x 4 = 20\n",
      "5 x 5 = 25\n",
      "5 x 6 = 30\n",
      "5 x 7 = 35\n",
      "5 x 8 = 40\n",
      "5 x 9 = 45\n",
      "5 x 10 = 50\n"
     ]
    }
   ],
   "source": [
    "n = int(input(\"Enter a number: \"))\n",
    "for i in range(1,11):\n",
    "    print(f\"{n} x {i} = {n*i}\")"
   ]
  },
  {
   "cell_type": "code",
   "execution_count": 21,
   "id": "39d575fb-bf06-4112-9f25-7891554dc296",
   "metadata": {},
   "outputs": [
    {
     "name": "stdout",
     "output_type": "stream",
     "text": [
      "Soham\n",
      "Sachin\n"
     ]
    }
   ],
   "source": [
    "l = [\"Harry\", \"Soham\", \"Sachin\", \"Rahul\"]\n",
    "for i in l:\n",
    "    if(i.startswith(\"S\")):\n",
    "        print(i)"
   ]
  },
  {
   "cell_type": "code",
   "execution_count": 37,
   "id": "eb6d0671-fba9-4846-b089-e06d6dd89683",
   "metadata": {},
   "outputs": [
    {
     "name": "stdin",
     "output_type": "stream",
     "text": [
      "Enter a number:  5\n"
     ]
    },
    {
     "name": "stdout",
     "output_type": "stream",
     "text": [
      "1\n",
      "2\n",
      "6\n",
      "24\n",
      "120\n"
     ]
    }
   ],
   "source": [
    " n = int(input(\"Enter a number: \"))\n",
    "sum = 1\n",
    "for i in range(1,(n+1)):\n",
    "    sum = (sum*i)\n",
    "    print(sum)\n"
   ]
  },
  {
   "cell_type": "code",
   "execution_count": 41,
   "id": "7910d540-acda-4b81-bfd9-24d0e029f972",
   "metadata": {},
   "outputs": [
    {
     "name": "stdout",
     "output_type": "stream",
     "text": [
      "  *\n",
      " ***\n",
      "*****\n"
     ]
    }
   ],
   "source": [
    "print(\"  *\")\n",
    "print(\" ***\")\n",
    "print(\"*****\")"
   ]
  },
  {
   "cell_type": "code",
   "execution_count": null,
   "id": "16253d42-150c-4f8a-9913-9cfad8613d45",
   "metadata": {},
   "outputs": [],
   "source": []
  }
 ],
 "metadata": {
  "kernelspec": {
   "display_name": "Python [conda env:base] *",
   "language": "python",
   "name": "conda-base-py"
  },
  "language_info": {
   "codemirror_mode": {
    "name": "ipython",
    "version": 3
   },
   "file_extension": ".py",
   "mimetype": "text/x-python",
   "name": "python",
   "nbconvert_exporter": "python",
   "pygments_lexer": "ipython3",
   "version": "3.12.7"
  }
 },
 "nbformat": 4,
 "nbformat_minor": 5
}
