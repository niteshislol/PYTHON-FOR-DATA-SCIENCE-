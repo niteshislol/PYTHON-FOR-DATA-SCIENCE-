{
 "cells": [
  {
   "cell_type": "code",
   "execution_count": 3,
   "id": "449f3fee-0607-4a8f-9ce9-9c17e6f1122b",
   "metadata": {},
   "outputs": [
    {
     "name": "stdout",
     "output_type": "stream",
     "text": [
      "1\n",
      "2\n",
      "3\n",
      "4\n",
      "5\n"
     ]
    }
   ],
   "source": [
    "for i in range(1,6):\n",
    "    print(i)"
   ]
  },
  {
   "cell_type": "code",
   "execution_count": null,
   "id": "3f8d46cd-dc1f-4328-ab13-90bdb4fffa8d",
   "metadata": {},
   "outputs": [],
   "source": [
    "i = 1\n",
    "while(i<51):\n",
    "    print(i)\n",
    "    i+=1"
   ]
  },
  {
   "cell_type": "code",
   "execution_count": 25,
   "id": "09c526a3-fa3d-4c90-808f-b4be71d84fec",
   "metadata": {},
   "outputs": [
    {
     "name": "stdout",
     "output_type": "stream",
     "text": [
      "tcfhvc\n",
      "kokkko\n",
      "loll\n"
     ]
    }
   ],
   "source": [
    "l=[\"tcfhvc\",\"kokkko\",\"loll\"]\n",
    "i=0\n",
    "while(i<len(l)):\n",
    "    print(l[i])\n",
    "    i+=1"
   ]
  },
  {
   "cell_type": "code",
   "execution_count": null,
   "id": "13497c8c-926f-40e1-8545-149b630e4ead",
   "metadata": {},
   "outputs": [],
   "source": [
    "for i in range(3,33,3):\n",
    "    print(i)"
   ]
  },
  {
   "cell_type": "code",
   "execution_count": null,
   "id": "436b5c94-769e-4925-958d-a0bb8fb9211a",
   "metadata": {},
   "outputs": [],
   "source": [
    "l = [33,65,74,84343,888]\n",
    "for i in l:\n",
    "    print(i)\n",
    "s = \"Nitesh\"\n",
    "for i in s:\n",
    "    print(i)"
   ]
  },
  {
   "cell_type": "code",
   "execution_count": 31,
   "id": "c2102424-afb5-4fea-8a9d-7dae71b02885",
   "metadata": {},
   "outputs": [
    {
     "name": "stdout",
     "output_type": "stream",
     "text": [
      "1\n",
      "7\n",
      "8\n",
      "done\n"
     ]
    }
   ],
   "source": [
    "#for with else\n",
    "l= [1,7,8]\n",
    "for item in l:\n",
    "    print(item)\n",
    "else:\n",
    "    print(\"done\") # this is printed when the loop exhausts!"
   ]
  },
  {
   "cell_type": "code",
   "execution_count": null,
   "id": "c2f25eb5-e24b-4c35-9fd9-bb1627239c42",
   "metadata": {},
   "outputs": [],
   "source": [
    "#Break with Continue\n",
    "for i in range(100):\n",
    "    if(i==34):\n",
    "        continue #Skip this Iteration\n",
    "    print(i)"
   ]
  },
  {
   "cell_type": "code",
   "execution_count": 39,
   "id": "466b30d8-4809-4648-b358-c7d8804082c2",
   "metadata": {},
   "outputs": [],
   "source": [
    "#pass in python\n",
    "l =[7,8,9,99]\n",
    "for item in l:\n",
    "    pass"
   ]
  },
  {
   "cell_type": "code",
   "execution_count": null,
   "id": "67435f5a-b021-45e0-8424-2cb18a642178",
   "metadata": {},
   "outputs": [],
   "source": []
  }
 ],
 "metadata": {
  "kernelspec": {
   "display_name": "Python [conda env:base] *",
   "language": "python",
   "name": "conda-base-py"
  },
  "language_info": {
   "codemirror_mode": {
    "name": "ipython",
    "version": 3
   },
   "file_extension": ".py",
   "mimetype": "text/x-python",
   "name": "python",
   "nbconvert_exporter": "python",
   "pygments_lexer": "ipython3",
   "version": "3.12.7"
  }
 },
 "nbformat": 4,
 "nbformat_minor": 5
}
