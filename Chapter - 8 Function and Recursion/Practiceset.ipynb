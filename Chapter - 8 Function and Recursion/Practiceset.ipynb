{
 "cells": [
  {
   "cell_type": "code",
   "execution_count": 1,
   "id": "6362f483-f92d-44b9-bbcf-5cc213e32c46",
   "metadata": {},
   "outputs": [
    {
     "name": "stdout",
     "output_type": "stream",
     "text": [
      "8 is greatest\n"
     ]
    }
   ],
   "source": [
    "def greatest(a,b,c):\n",
    "    if(a>b and a>c):\n",
    "        print(a , \"is greatest\")\n",
    "    elif(b>a and b>c):\n",
    "        print(b , \"is greatest\")\n",
    "    elif(c>a and c>b):\n",
    "        print(c , \"is greatest\")\n",
    "    else:\n",
    "        print(\"HamSabEkHai\")\n",
    "a = 3 \n",
    "b = 5\n",
    "c = 8\n",
    "greatest(a , b , c)"
   ]
  },
  {
   "cell_type": "code",
   "execution_count": 5,
   "id": "c9098dc3-6e7d-473b-bc20-2e89a2b64945",
   "metadata": {},
   "outputs": [
    {
     "data": {
      "text/plain": [
       "37.77777777777778"
      ]
     },
     "execution_count": 5,
     "metadata": {},
     "output_type": "execute_result"
    }
   ],
   "source": [
    "def celtofar(c):\n",
    "    c = 5*(f-32)/9\n",
    "    return c\n",
    "f = 100\n",
    "celtofar(c)"
   ]
  },
  {
   "cell_type": "code",
   "execution_count": null,
   "id": "c6e95610-8a3b-40d8-9c94-0419dc88b140",
   "metadata": {},
   "outputs": [],
   "source": [
    "a = \n",
    "b =  \n",
    "# c = new line alit and hover \n",
    "d = "
   ]
  },
  {
   "cell_type": "code",
   "execution_count": 9,
   "id": "1e8bfb09-8ef5-4800-9525-33a09e4bf092",
   "metadata": {},
   "outputs": [
    {
     "name": "stdout",
     "output_type": "stream",
     "text": [
      "*****\n",
      "****\n",
      "***\n",
      "**\n",
      "*\n"
     ]
    }
   ],
   "source": [
    "def pattern(n):\n",
    "    if(n==0):\n",
    "        return \n",
    "    print(\"*\" * n)\n",
    "    pattern(n-1)\n",
    "\n",
    "pattern(5)"
   ]
  },
  {
   "cell_type": "code",
   "execution_count": null,
   "id": "e1943a8c-82a8-4422-83f9-5661ba8f3363",
   "metadata": {},
   "outputs": [],
   "source": [
    " "
   ]
  }
 ],
 "metadata": {
  "kernelspec": {
   "display_name": "Python [conda env:base] *",
   "language": "python",
   "name": "conda-base-py"
  },
  "language_info": {
   "codemirror_mode": {
    "name": "ipython",
    "version": 3
   },
   "file_extension": ".py",
   "mimetype": "text/x-python",
   "name": "python",
   "nbconvert_exporter": "python",
   "pygments_lexer": "ipython3",
   "version": "3.12.7"
  }
 },
 "nbformat": 4,
 "nbformat_minor": 5
}
