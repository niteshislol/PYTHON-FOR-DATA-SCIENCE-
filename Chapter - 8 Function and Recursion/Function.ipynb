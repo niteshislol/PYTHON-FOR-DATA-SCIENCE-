{
 "cells": [
  {
   "cell_type": "code",
   "execution_count": 27,
   "id": "a5c1bf1b-646e-43a8-9cb7-e2ecfb82e583",
   "metadata": {},
   "outputs": [
    {
     "name": "stdin",
     "output_type": "stream",
     "text": [
      "Enter your number:  4\n",
      "Enter your number:  8\n",
      "Enter your number:  3\n",
      "Enter your number:  Nitesh\n"
     ]
    },
    {
     "name": "stdout",
     "output_type": "stream",
     "text": [
      "5.0\n",
      "Thank you ,Nitesh\n",
      "5.0\n",
      "Thank you ,Nitesh\n",
      "5.0\n",
      "Thank you ,Nitesh\n",
      "5.0\n",
      "Thank you ,Nitesh\n"
     ]
    }
   ],
   "source": [
    "def avg(name):\n",
    "    print((a+b+c)/3)\n",
    "    print(\"Thank you , \" + name)\n",
    "a = int(input(\"Enter your number: \"))\n",
    "b = int(input(\"Enter your number: \"))\n",
    "c = int(input(\"Enter your number: \"))\n",
    "name = input(\"Enter your number: \")\n",
    "for i in range(0,4):\n",
    "    avg(name)\n"
   ]
  },
  {
   "cell_type": "code",
   "execution_count": 41,
   "id": "8d53956c-3ea7-41ee-9a1e-ad706b0fa535",
   "metadata": {},
   "outputs": [
    {
     "name": "stdout",
     "output_type": "stream",
     "text": [
      "Good Day, Nitesh\n",
      "Thankssss\n"
     ]
    }
   ],
   "source": [
    "# default parameter\n",
    "def goodday(name , ending =\"Thank You\"):\n",
    "    print(f\"Good Day, {name}\")\n",
    "    print(ending)\n",
    "goodday(\"Nitesh\",\"Thankssss\")"
   ]
  },
  {
   "cell_type": "code",
   "execution_count": 55,
   "id": "b542bd92-8c40-43af-975c-23277a4060c6",
   "metadata": {},
   "outputs": [
    {
     "name": "stdout",
     "output_type": "stream",
     "text": [
      "120\n"
     ]
    }
   ],
   "source": [
    "def factorial(n):\n",
    "    if(n==1 or n==0):\n",
    "        return 1\n",
    "    return n*factorial(n-1)\n",
    "n = 5\n",
    "# factorial(5)\n",
    "print(factorial(5))"
   ]
  },
  {
   "cell_type": "code",
   "execution_count": null,
   "id": "c376187f-4a54-4281-87d4-a886c15a97ec",
   "metadata": {},
   "outputs": [],
   "source": []
  }
 ],
 "metadata": {
  "kernelspec": {
   "display_name": "Python [conda env:base] *",
   "language": "python",
   "name": "conda-base-py"
  },
  "language_info": {
   "codemirror_mode": {
    "name": "ipython",
    "version": 3
   },
   "file_extension": ".py",
   "mimetype": "text/x-python",
   "name": "python",
   "nbconvert_exporter": "python",
   "pygments_lexer": "ipython3",
   "version": "3.12.7"
  }
 },
 "nbformat": 4,
 "nbformat_minor": 5
}
