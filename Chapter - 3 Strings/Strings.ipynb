{
 "cells": [
  {
   "cell_type": "code",
   "execution_count": 9,
   "id": "62493556-8ffb-4a0a-9e87-6577428483c5",
   "metadata": {},
   "outputs": [
    {
     "name": "stdout",
     "output_type": "stream",
     "text": [
      "niteph\n",
      "9\n"
     ]
    }
   ],
   "source": [
    "a = 'nitesh'\n",
    "b = \"HelloGuys\"\n",
    "c = '''Hii Guys '''\n",
    "a = \"niteph\"\n",
    "print(a)\n"
   ]
  },
  {
   "cell_type": "code",
   "execution_count": 19,
   "id": "9ae9b9f7-ead1-450c-b90f-21b843ef567e",
   "metadata": {},
   "outputs": [
    {
     "name": "stdout",
     "output_type": "stream",
     "text": [
      "Nite\n",
      "Niteshisl\n"
     ]
    }
   ],
   "source": [
    "#Slicing\n",
    "c = \"Nitesh\"\n",
    "namln = c[0:4]\n",
    "print(namln)\n",
    "#NegativeSlicing\n",
    "coc = \"Niteshislol\"\n",
    "coco = coc[:-2] # it read as -11 to -2 as it is initial part\n",
    "print(coco)"
   ]
  },
  {
   "cell_type": "code",
   "execution_count": 25,
   "id": "53cee837-d1d7-4f99-8449-8dd4bedbbd0b",
   "metadata": {},
   "outputs": [
    {
     "data": {
      "text/plain": [
       "'Aaig'"
      ]
     },
     "execution_count": 25,
     "metadata": {},
     "output_type": "execute_result"
    }
   ],
   "source": [
    "#Slicing With Skip Value \n",
    "word = \"Amazing\"\n",
    "word[0 : 7 : 2] #[from : to : gape ]"
   ]
  },
  {
   "cell_type": "code",
   "execution_count": 59,
   "id": "d28ba106-2b49-49ad-b631-559bc5c443d6",
   "metadata": {},
   "outputs": [
    {
     "name": "stdout",
     "output_type": "stream",
     "text": [
      "True\n",
      "True\n",
      "Harry\n",
      "hgoorry\n"
     ]
    }
   ],
   "source": [
    "#String Functions \n",
    "name = \"harry\"\n",
    "# print(len(name))\n",
    "print(name.endswith(\"y\"))\n",
    "print(name.startswith(\"ha\"))\n",
    "print(name.capitalize())\n",
    "#upper lower title - capital each word of strng count .find .replace(old word , new word)\n",
    "print(name.replace(\"a\",\"goo\"))"
   ]
  },
  {
   "cell_type": "code",
   "execution_count": null,
   "id": "12610897-49d8-4a82-84d9-e1cc6d250e68",
   "metadata": {},
   "outputs": [],
   "source": [
    "# escape sequence characters in Python\n",
    "print(\"1. Newline: Hello\\nWorld\")  # \\n for newline\n",
    "print(\"2. Tab space: Hello\\tWorld\")  # \\t for tab\n",
    "print(\"3. Carriage return: Hello\\rWorld\")  # \\r replaces \"Hello\" with \"World\"\n",
    "print(\"4. Backspace: Hello\\bWorld\")  # \\b removes last character before 'W'\n",
    "print(\"5. Form feed: Hello\\fWorld\")  # \\f moves to the next line in some printers\n",
    "print(\"6. Vertical tab: Hello\\vWorld\")  # \\v moves down vertically like a newline\n",
    "print(\"7. Single quote: It\\'s a great day!\")  # \\' to include a single quote in a string\n",
    "print(\"8. Double quote: \\\"Python is awesome!\\\"\")  # \\\" to include double quotes\n",
    "print(\"9. Backslash: C:\\\\Users\\\\Python\")  # \\\\ to include a backslash in a string\n",
    "print(\"10. Octal value: \\101\")  # \\101 represents 'A' in octal\n",
    "print(\"11. Hexadecimal value: \\x41\")  # \\x41 represents 'A' in hexadecimal\n",
    "print(\"12. Unicode: \\u03A9\")  # \\u03A9 represents 'Ω' (Greek Omega)\n",
    "print(\"13. Unicode 4 bytes: \\U0001F600\")  # \\U0001F600 represents 😀 (grinning emoji)\n",
    "print(\"14. Raw string: r\\\"C:\\new\\folder\\\" ->\", r\"C:\\new\\folder\")  # r\"...\" ignores escape sequences\n"
   ]
  }
 ],
 "metadata": {
  "kernelspec": {
   "display_name": "Python [conda env:base] *",
   "language": "python",
   "name": "conda-base-py"
  },
  "language_info": {
   "codemirror_mode": {
    "name": "ipython",
    "version": 3
   },
   "file_extension": ".py",
   "mimetype": "text/x-python",
   "name": "python",
   "nbconvert_exporter": "python",
   "pygments_lexer": "ipython3",
   "version": "3.12.7"
  }
 },
 "nbformat": 4,
 "nbformat_minor": 5
}
