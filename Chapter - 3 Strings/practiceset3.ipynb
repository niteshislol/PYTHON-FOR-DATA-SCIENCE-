{
 "cells": [
  {
   "cell_type": "code",
   "execution_count": 3,
   "id": "8ee01e49-2f24-434e-9449-aa6cfe2606c2",
   "metadata": {},
   "outputs": [
    {
     "name": "stdin",
     "output_type": "stream",
     "text": [
      "Enter Your Name :  Nitesh\n"
     ]
    },
    {
     "name": "stdout",
     "output_type": "stream",
     "text": [
      "Good Afternoon , Nitesh!\n"
     ]
    }
   ],
   "source": [
    "#1. Write a python program to display a user entered name followed by Good\n",
    "#Afternoon using input () function.\n",
    "name = input(\"Enter Your Name : \")\n",
    "print(f\"Good Afternoon , {name}!\")"
   ]
  },
  {
   "cell_type": "code",
   "execution_count": 13,
   "id": "03932a3a-1e29-4a51-8703-107ca3eec0f0",
   "metadata": {},
   "outputs": [
    {
     "name": "stdin",
     "output_type": "stream",
     "text": [
      "Enter The Name :  nitesh\n",
      "Enter The Date :  22\n",
      "Enter The Month :  march\n",
      "Enter The Year :  2006\n"
     ]
    },
    {
     "name": "stdout",
     "output_type": "stream",
     "text": [
      "Dear nitesh, \n",
      "You are selected! \n",
      "22\\march\\2006\n"
     ]
    }
   ],
   "source": [
    "name = input(\"Enter The Name : \")\n",
    "date = input(\"Enter The Date : \")\n",
    "Month = input(\"Enter The Month : \")\n",
    "Year = input(\"Enter The Year : \")\n",
    "\n",
    "print(f\"\"\"Dear {name}, \n",
    "You are selected! \n",
    "{date}\\\\{Month}\\\\{Year}\"\"\")"
   ]
  },
  {
   "cell_type": "code",
   "execution_count": 25,
   "id": "06086ec5-2e43-4b5b-af81-02585b640813",
   "metadata": {},
   "outputs": [
    {
     "name": "stdin",
     "output_type": "stream",
     "text": [
      "Enter The Name :  Nitesh Kumar\n",
      "Enter The Date :  20th March 2025\n"
     ]
    },
    {
     "name": "stdout",
     "output_type": "stream",
     "text": [
      "\n",
      "Dear Nitesh Kumar,\n",
      "You are selected!\n",
      "20th March 2025\n",
      "\n"
     ]
    }
   ],
   "source": [
    "#Write a program to fill in a letter template given below with name and date.\n",
    "letter = '''\n",
    "Dear <|Name|>,\n",
    "You are selected!\n",
    "<|Date|>\n",
    "'''\n",
    "name = input(\"Enter The Name : \")\n",
    "date = input(\"Enter The Date : \")\n",
    "letterfilled = letter.replace(\"<|Name|>\",name).replace(\"<|Date|>\",date) \n",
    "print(letterfilled)"
   ]
  },
  {
   "cell_type": "code",
   "execution_count": 39,
   "id": "7ab8415a-70c7-4d92-a41e-a44fd8f7f4ea",
   "metadata": {},
   "outputs": [
    {
     "name": "stdout",
     "output_type": "stream",
     "text": [
      "Nitesh is LoL\n"
     ]
    }
   ],
   "source": [
    "name = \"Nitesh  is  LoL\"\n",
    "print(name.replace(\"  \",\" \"))"
   ]
  },
  {
   "cell_type": "code",
   "execution_count": 49,
   "id": "5f9a6440-cf8f-44dc-b699-8cd9d6285731",
   "metadata": {},
   "outputs": [
    {
     "name": "stdout",
     "output_type": "stream",
     "text": [
      "Dear Harry, \n",
      "\tthis python course is nice. \n",
      "Thanks!\n"
     ]
    }
   ],
   "source": [
    "letter = \"Dear Harry, \\n\\tthis python course is nice. \\nThanks!\"\n",
    "print(letter)"
   ]
  },
  {
   "cell_type": "code",
   "execution_count": null,
   "id": "66961162-8653-4a11-9055-edf132e74612",
   "metadata": {},
   "outputs": [],
   "source": []
  }
 ],
 "metadata": {
  "kernelspec": {
   "display_name": "Python [conda env:base] *",
   "language": "python",
   "name": "conda-base-py"
  },
  "language_info": {
   "codemirror_mode": {
    "name": "ipython",
    "version": 3
   },
   "file_extension": ".py",
   "mimetype": "text/x-python",
   "name": "python",
   "nbconvert_exporter": "python",
   "pygments_lexer": "ipython3",
   "version": "3.12.7"
  }
 },
 "nbformat": 4,
 "nbformat_minor": 5
}
