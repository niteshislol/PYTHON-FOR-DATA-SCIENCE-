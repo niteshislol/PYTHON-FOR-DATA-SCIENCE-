{
 "cells": [
  {
   "cell_type": "code",
   "execution_count": 5,
   "id": "3e4f5e0b-b61a-4dd2-84cb-adf22e0240f9",
   "metadata": {},
   "outputs": [
    {
     "name": "stdout",
     "output_type": "stream",
     "text": [
      "Nitesh\n",
      "Nepal\n",
      "[43, 65, 88]\n"
     ]
    }
   ],
   "source": [
    "a = { \"Hey\":\"Nitesh\",\n",
    "     \"From\":\"Nepal\",\n",
    "     \"Amazing\":[43,65,88]    \n",
    "}\n",
    "print(a[\"Hey\"])\n",
    "print(a[\"From\"])\n",
    "print(a[\"Amazing\"])"
   ]
  },
  {
   "cell_type": "code",
   "execution_count": 47,
   "id": "023591e8-9da5-4a36-afb7-2ab7e5e51e51",
   "metadata": {},
   "outputs": [
    {
     "name": "stdout",
     "output_type": "stream",
     "text": [
      "None\n"
     ]
    },
    {
     "ename": "KeyError",
     "evalue": "'Hey2'",
     "output_type": "error",
     "traceback": [
      "\u001b[1;31m---------------------------------------------------------------------------\u001b[0m",
      "\u001b[1;31mKeyError\u001b[0m                                  Traceback (most recent call last)",
      "Cell \u001b[1;32mIn[47], line 12\u001b[0m\n\u001b[0;32m      6\u001b[0m \u001b[38;5;66;03m# print(a.items())\u001b[39;00m\n\u001b[0;32m      7\u001b[0m \u001b[38;5;66;03m# print(a.keys())\u001b[39;00m\n\u001b[0;32m      8\u001b[0m \u001b[38;5;66;03m# print(a.values())\u001b[39;00m\n\u001b[0;32m      9\u001b[0m \u001b[38;5;66;03m# a.update({\"Amazing\":[44,65,87],\"Renuka\":90})\u001b[39;00m\n\u001b[0;32m     10\u001b[0m \u001b[38;5;66;03m# print(a)\u001b[39;00m\n\u001b[0;32m     11\u001b[0m \u001b[38;5;28mprint\u001b[39m(a\u001b[38;5;241m.\u001b[39mget(\u001b[38;5;124m\"\u001b[39m\u001b[38;5;124mHey2\u001b[39m\u001b[38;5;124m\"\u001b[39m))\n\u001b[1;32m---> 12\u001b[0m \u001b[38;5;28mprint\u001b[39m(a[\u001b[38;5;124m\"\u001b[39m\u001b[38;5;124mHey2\u001b[39m\u001b[38;5;124m\"\u001b[39m])\n",
      "\u001b[1;31mKeyError\u001b[0m: 'Hey2'"
     ]
    }
   ],
   "source": [
    "#Dict Menthods\n",
    "a = { \"Hey\":\"Nitesh\",\n",
    "     \"From\":\"Nepal\",\n",
    "     \"Amazing\":[43,65,88]    \n",
    "}\n",
    "# print(a.items())\n",
    "# print(a.keys())\n",
    "# print(a.values())\n",
    "# a.update({\"Amazing\":[44,65,87],\"Renuka\":90})\n",
    "# print(a)\n",
    "print(a.get(\"Hey2\")) # Prints None \n",
    "print(a[\"Hey2\"]) #returns an error\n"
   ]
  },
  {
   "cell_type": "code",
   "execution_count": null,
   "id": "35e6f969-6c52-47a0-9ced-abe780bd721c",
   "metadata": {},
   "outputs": [],
   "source": []
  }
 ],
 "metadata": {
  "kernelspec": {
   "display_name": "Python [conda env:base] *",
   "language": "python",
   "name": "conda-base-py"
  },
  "language_info": {
   "codemirror_mode": {
    "name": "ipython",
    "version": 3
   },
   "file_extension": ".py",
   "mimetype": "text/x-python",
   "name": "python",
   "nbconvert_exporter": "python",
   "pygments_lexer": "ipython3",
   "version": "3.12.7"
  }
 },
 "nbformat": 4,
 "nbformat_minor": 5
}
