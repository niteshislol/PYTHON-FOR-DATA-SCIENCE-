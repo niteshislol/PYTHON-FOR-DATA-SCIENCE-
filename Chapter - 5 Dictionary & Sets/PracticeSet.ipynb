{
 "cells": [
  {
   "cell_type": "code",
   "execution_count": 5,
   "id": "99db800a-80f6-4f66-b65a-1f9ea8c395d2",
   "metadata": {},
   "outputs": [
    {
     "name": "stdin",
     "output_type": "stream",
     "text": [
      "Enter the word you want meaning of :  Technique\n"
     ]
    },
    {
     "name": "stdout",
     "output_type": "stream",
     "text": [
      "Taknik\n"
     ]
    }
   ],
   "source": [
    "nitesh = { \"Technique\" : \"Taknik\",\n",
    "          \"Caution\":\"Savdhaan\",    \n",
    "}\n",
    "word = input(\"Enter the word you want meaning of : \")\n",
    "print(nitesh[word])\n"
   ]
  },
  {
   "cell_type": "code",
   "execution_count": 7,
   "id": "04105caf-0da8-4ed7-b6fa-fb59899cd452",
   "metadata": {},
   "outputs": [
    {
     "name": "stdin",
     "output_type": "stream",
     "text": [
      "Enter number:  1\n",
      "Enter number:  2\n",
      "Enter number:  3\n",
      "Enter number:  4\n",
      "Enter number:  5\n",
      "Enter number:  6\n",
      "Enter number:  7\n",
      "Enter number:  87\n"
     ]
    },
    {
     "name": "stdout",
     "output_type": "stream",
     "text": [
      "{1, 2, 3, 4, 5, 6, 7}\n"
     ]
    }
   ],
   "source": [
    "s = set()\n",
    "n = input(\"Enter number: \")\n",
    "s.add(int(n))\n",
    "n = input(\"Enter number: \")\n",
    "s.add(int(n))\n",
    "n = input(\"Enter number: \")\n",
    "s.add(int(n))\n",
    "n = input(\"Enter number: \")\n",
    "s.add(int(n))\n",
    "n = input(\"Enter number: \")\n",
    "s.add(int(n))\n",
    "n = input(\"Enter number: \")\n",
    "s.add(int(n))\n",
    "n = input(\"Enter number: \")\n",
    "s.add(int(n))\n",
    "n = input(\"Enter number: \")\n",
    "print(s)"
   ]
  },
  {
   "cell_type": "code",
   "execution_count": 13,
   "id": "377004a7-74e3-4dc2-8255-c5df504e92bf",
   "metadata": {},
   "outputs": [
    {
     "name": "stdin",
     "output_type": "stream",
     "text": [
      "Enter :  harry\n",
      "enter :  puttar\n",
      "Enter :  niteshjunar\n",
      "enter :  niteshjj\n",
      "Enter :  jiuuhhhs\n",
      "enter :  ijisfjje\n",
      "Enter :  dfhdhgwhf\n",
      "enter :  hfiuhuhewu\n"
     ]
    },
    {
     "name": "stdout",
     "output_type": "stream",
     "text": [
      "{'harry': 'puttar', 'niteshjunar': 'niteshjj', 'jiuuhhhs': 'ijisfjje', 'dfhdhgwhf': 'hfiuhuhewu'}\n"
     ]
    }
   ],
   "source": [
    "s={}\n",
    "name = input(\"Enter : \") \n",
    "key = input(\"enter : \")\n",
    "s.update({name : key})\n",
    "name = input(\"Enter : \") \n",
    "key = input(\"enter : \")\n",
    "s.update({name : key})\n",
    "name = input(\"Enter : \") \n",
    "key = input(\"enter : \")\n",
    "s.update({name : key})\n",
    "name = input(\"Enter : \") \n",
    "key = input(\"enter : \")\n",
    "s.update({name : key})\n",
    "print(s)"
   ]
  },
  {
   "cell_type": "code",
   "execution_count": null,
   "id": "bc742b23-9ab7-4c8a-8955-4c7caacac312",
   "metadata": {},
   "outputs": [],
   "source": []
  }
 ],
 "metadata": {
  "kernelspec": {
   "display_name": "Python [conda env:base] *",
   "language": "python",
   "name": "conda-base-py"
  },
  "language_info": {
   "codemirror_mode": {
    "name": "ipython",
    "version": 3
   },
   "file_extension": ".py",
   "mimetype": "text/x-python",
   "name": "python",
   "nbconvert_exporter": "python",
   "pygments_lexer": "ipython3",
   "version": "3.12.7"
  }
 },
 "nbformat": 4,
 "nbformat_minor": 5
}
