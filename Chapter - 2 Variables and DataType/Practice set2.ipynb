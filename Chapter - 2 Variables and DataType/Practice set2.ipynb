{
 "cells": [
  {
   "cell_type": "code",
   "execution_count": 3,
   "id": "1c98c29b-bfee-42ac-b1e0-132ef91086ff",
   "metadata": {},
   "outputs": [],
   "source": [
    "#Qns 1. Write a python program to add two numbers.\n",
    "# 2. Write a python program to find remainder when a number is divided by z.\n",
    "# 3. Check the type of variable assigned using input () function.\n",
    "# 4. Use comparison operator to find out whether ‘a’ given variable a is greater than\n",
    "# ‘b’ or not. Take a = 34 and b = 80\n",
    "# 5. Write a python program to find an average of two numbers entered by the user.\n",
    "# 6. Write a python program to calculate the square of a number entered by the user.\n"
   ]
  },
  {
   "cell_type": "code",
   "execution_count": 31,
   "id": "1d438619-c83a-44ab-a757-b3b106195230",
   "metadata": {},
   "outputs": [
    {
     "name": "stdin",
     "output_type": "stream",
     "text": [
      "Enter :  66\n"
     ]
    },
    {
     "data": {
      "text/plain": [
       "int"
      ]
     },
     "execution_count": 31,
     "metadata": {},
     "output_type": "execute_result"
    }
   ],
   "source": [
    "str = int(input(\"Enter : \"))\n",
    "type(str)"
   ]
  },
  {
   "cell_type": "code",
   "execution_count": 39,
   "id": "70b00b0a-6705-4ac7-8f67-1cf3063da904",
   "metadata": {},
   "outputs": [
    {
     "name": "stdout",
     "output_type": "stream",
     "text": [
      "-2\n"
     ]
    }
   ],
   "source": [
    "a = 1 \n",
    "b = 1\n",
    "b =- 2 \n",
    "print(b)\n"
   ]
  },
  {
   "cell_type": "code",
   "execution_count": 53,
   "id": "ed7dae0a-7398-4a50-b609-189562a16bca",
   "metadata": {},
   "outputs": [
    {
     "name": "stdin",
     "output_type": "stream",
     "text": [
      "Enter A:  2\n",
      "Enter B:  3\n"
     ]
    },
    {
     "name": "stdout",
     "output_type": "stream",
     "text": [
      "27.5\n"
     ]
    }
   ],
   "source": [
    "A = int(input(\"Enter A: \"))\n",
    "B = int(input(\"Enter B: \"))\n",
    "C = (A+B)/2 \n",
    "Square = (A+B)*(A+B)\n",
    "print(C+Square)"
   ]
  },
  {
   "cell_type": "code",
   "execution_count": null,
   "id": "a02413ba-7ae3-49de-aec4-e53008cb4d43",
   "metadata": {},
   "outputs": [],
   "source": []
  }
 ],
 "metadata": {
  "kernelspec": {
   "display_name": "Python [conda env:base] *",
   "language": "python",
   "name": "conda-base-py"
  },
  "language_info": {
   "codemirror_mode": {
    "name": "ipython",
    "version": 3
   },
   "file_extension": ".py",
   "mimetype": "text/x-python",
   "name": "python",
   "nbconvert_exporter": "python",
   "pygments_lexer": "ipython3",
   "version": "3.12.7"
  }
 },
 "nbformat": 4,
 "nbformat_minor": 5
}
