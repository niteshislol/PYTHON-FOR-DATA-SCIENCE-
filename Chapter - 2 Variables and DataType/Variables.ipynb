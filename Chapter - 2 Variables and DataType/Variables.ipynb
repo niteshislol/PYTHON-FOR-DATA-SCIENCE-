{
 "cells": [
  {
   "cell_type": "code",
   "execution_count": 7,
   "id": "9d1429d7-befb-499f-9aac-7c54debaa19f",
   "metadata": {},
   "outputs": [
    {
     "name": "stdout",
     "output_type": "stream",
     "text": [
      "10\n"
     ]
    }
   ],
   "source": [
    "a = 1\n",
    "b= 2 \n",
    "name = \"7\"\n",
    "print(a+b+int(name))"
   ]
  },
  {
   "cell_type": "code",
   "execution_count": 11,
   "id": "ee97a025-846a-45fe-8a40-23a3aa45ae0b",
   "metadata": {},
   "outputs": [
    {
     "name": "stdout",
     "output_type": "stream",
     "text": [
      "1\n",
      "12.3444\n",
      "Hello\n",
      "True\n",
      "False\n",
      "None\n"
     ]
    }
   ],
   "source": [
    "a = 1 \n",
    "b = 12.3444\n",
    "c = \"Hello\"\n",
    "d = True \n",
    "e = False \n",
    "f = None\n",
    "print(a)\n",
    "print(b)\n",
    "print(c)\n",
    "print(d)\n",
    "9print(e)\n",
    "print(f)\n"
   ]
  },
  {
   "cell_type": "code",
   "execution_count": 13,
   "id": "bc59ed58-07e1-489a-adb8-144784848070",
   "metadata": {},
   "outputs": [],
   "source": [
    "# )3_Rules Variables\n",
    "_nitesh = 55\n",
    "nittt_youu = 66\n",
    "\n",
    "# @sameer = 442 nooooo \n"
   ]
  },
  {
   "cell_type": "code",
   "execution_count": 15,
   "id": "394fc111-62c1-4749-9e8f-1f637b6b9ab8",
   "metadata": {},
   "outputs": [
    {
     "name": "stdin",
     "output_type": "stream",
     "text": [
      "Enter name hist\n"
     ]
    }
   ],
   "source": [
    "A = input (\"Enter name\")"
   ]
  },
  {
   "cell_type": "code",
   "execution_count": null,
   "id": "33f543c8-910e-40f2-aea2-64d905ac5c90",
   "metadata": {},
   "outputs": [],
   "source": []
  }
 ],
 "metadata": {
  "kernelspec": {
   "display_name": "Python [conda env:base] *",
   "language": "python",
   "name": "conda-base-py"
  },
  "language_info": {
   "codemirror_mode": {
    "name": "ipython",
    "version": 3
   },
   "file_extension": ".py",
   "mimetype": "text/x-python",
   "name": "python",
   "nbconvert_exporter": "python",
   "pygments_lexer": "ipython3",
   "version": "3.12.7"
  }
 },
 "nbformat": 4,
 "nbformat_minor": 5
}
